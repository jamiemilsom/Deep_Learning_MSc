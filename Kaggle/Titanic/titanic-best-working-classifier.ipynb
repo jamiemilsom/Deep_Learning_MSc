{
 "cells": [
  {
   "cell_type": "markdown",
   "metadata": {
    "_cell_guid": "25b1e1db-8bc5-7029-f719-91da523bd121"
   },
   "source": [
    "## Introduction ##\n",
    "\n",
    "This is my first work of machine learning. the notebook is written in python and has inspired from [\"Exploring Survival on Titanic\" by Megan Risdal, a Kernel in R on Kaggle][1].\n",
    "\n",
    "\n",
    "  [1]: https://www.kaggle.com/mrisdal/titanic/exploring-survival-on-the-titanic"
   ]
  },
  {
   "cell_type": "code",
   "execution_count": 213,
   "metadata": {},
   "outputs": [],
   "source": [
    "import numpy as np\n",
    "import pandas as pd\n",
    "\n",
    "import torch\n",
    "import torch.nn as nn\n",
    "import torch.nn.functional as F\n",
    "from torch.utils.data import DataLoader\n",
    "import torch.optim as optim\n",
    "\n",
    "from sklearn.model_selection import train_test_split\n",
    "\n",
    "import matplotlib.pyplot as plt\n",
    "import seaborn as sns"
   ]
  },
  {
   "cell_type": "code",
   "execution_count": 214,
   "metadata": {
    "_cell_guid": "2ce68358-02ec-556d-ba88-e773a50bc18b"
   },
   "outputs": [
    {
     "name": "stdout",
     "output_type": "stream",
     "text": [
      "<class 'pandas.core.frame.DataFrame'>\n",
      "RangeIndex: 891 entries, 0 to 890\n",
      "Data columns (total 12 columns):\n",
      " #   Column       Non-Null Count  Dtype  \n",
      "---  ------       --------------  -----  \n",
      " 0   PassengerId  891 non-null    int64  \n",
      " 1   Survived     891 non-null    int64  \n",
      " 2   Pclass       891 non-null    int64  \n",
      " 3   Name         891 non-null    object \n",
      " 4   Sex          891 non-null    object \n",
      " 5   Age          714 non-null    float64\n",
      " 6   SibSp        891 non-null    int64  \n",
      " 7   Parch        891 non-null    int64  \n",
      " 8   Ticket       891 non-null    object \n",
      " 9   Fare         891 non-null    float64\n",
      " 10  Cabin        204 non-null    object \n",
      " 11  Embarked     889 non-null    object \n",
      "dtypes: float64(2), int64(5), object(5)\n",
      "memory usage: 83.7+ KB\n",
      "None\n"
     ]
    }
   ],
   "source": [
    "%matplotlib inline\n",
    "import numpy as np\n",
    "import pandas as pd\n",
    "import re as re\n",
    "\n",
    "train = pd.read_csv('train.csv', header = 0, dtype={'Age': np.float64})\n",
    "test  = pd.read_csv('test.csv' , header = 0, dtype={'Age': np.float64})\n",
    "full_data = [train, test]\n",
    "\n",
    "print (train.info())"
   ]
  },
  {
   "cell_type": "markdown",
   "metadata": {
    "_cell_guid": "f9595646-65c9-6fc4-395f-0befc4d122ce"
   },
   "source": [
    "# Feature Engineering #"
   ]
  },
  {
   "cell_type": "markdown",
   "metadata": {
    "_cell_guid": "9b4c278b-aaca-e92c-ba77-b9b48379d1f1"
   },
   "source": [
    "## 1. Pclass ##\n",
    "there is no missing value on this feature and already a numerical value. so let's check it's impact on our train set."
   ]
  },
  {
   "cell_type": "code",
   "execution_count": 215,
   "metadata": {
    "_cell_guid": "4680d950-cf7d-a6ae-e813-535e2247d88e"
   },
   "outputs": [
    {
     "name": "stdout",
     "output_type": "stream",
     "text": [
      "   Pclass  Survived\n",
      "0       1  0.629630\n",
      "1       2  0.472826\n",
      "2       3  0.242363\n"
     ]
    }
   ],
   "source": [
    "print (train[['Pclass', 'Survived']].groupby(['Pclass'], as_index=False).mean())"
   ]
  },
  {
   "cell_type": "markdown",
   "metadata": {
    "_cell_guid": "5e70f81c-d4e2-1823-f0ba-a7c9b46984ff"
   },
   "source": [
    "## 2. Sex ##"
   ]
  },
  {
   "cell_type": "code",
   "execution_count": 216,
   "metadata": {
    "_cell_guid": "6729681d-7915-1631-78d2-ddf3c35a424c"
   },
   "outputs": [
    {
     "name": "stdout",
     "output_type": "stream",
     "text": [
      "      Sex  Survived\n",
      "0  female  0.742038\n",
      "1    male  0.188908\n"
     ]
    }
   ],
   "source": [
    "print (train[[\"Sex\", \"Survived\"]].groupby(['Sex'], as_index=False).mean())"
   ]
  },
  {
   "cell_type": "markdown",
   "metadata": {
    "_cell_guid": "7c58b7ee-d6a1-0cc9-2346-81c47846a54a"
   },
   "source": [
    "## 3. SibSp and Parch ##\n",
    "With the number of siblings/spouse and the number of children/parents we can create new feature called Family Size."
   ]
  },
  {
   "cell_type": "code",
   "execution_count": 217,
   "metadata": {
    "_cell_guid": "1a537f10-7cec-d0b7-8a34-fa9975655190"
   },
   "outputs": [
    {
     "name": "stdout",
     "output_type": "stream",
     "text": [
      "   FamilySize  Survived\n",
      "0           1  0.303538\n",
      "1           2  0.552795\n",
      "2           3  0.578431\n",
      "3           4  0.724138\n",
      "4           5  0.200000\n",
      "5           6  0.136364\n",
      "6           7  0.333333\n",
      "7           8  0.000000\n",
      "8          11  0.000000\n"
     ]
    }
   ],
   "source": [
    "for dataset in full_data:\n",
    "    dataset['FamilySize'] = dataset['SibSp'] + dataset['Parch'] + 1\n",
    "print (train[['FamilySize', 'Survived']].groupby(['FamilySize'], as_index=False).mean())"
   ]
  },
  {
   "cell_type": "markdown",
   "metadata": {
    "_cell_guid": "e4861d3e-10db-1a23-8728-44e4d5251844"
   },
   "source": [
    "it seems has a good effect on our prediction but let's go further and categorize people to check whether they are alone in this ship or not."
   ]
  },
  {
   "cell_type": "code",
   "execution_count": 218,
   "metadata": {
    "_cell_guid": "8c35e945-c928-e3bc-bd9c-d6ddb287e4c9"
   },
   "outputs": [
    {
     "name": "stdout",
     "output_type": "stream",
     "text": [
      "   IsAlone  Survived\n",
      "0        0  0.505650\n",
      "1        1  0.303538\n"
     ]
    }
   ],
   "source": [
    "for dataset in full_data:\n",
    "    dataset['IsAlone'] = 0\n",
    "    dataset.loc[dataset['FamilySize'] == 1, 'IsAlone'] = 1\n",
    "print (train[['IsAlone', 'Survived']].groupby(['IsAlone'], as_index=False).mean())"
   ]
  },
  {
   "cell_type": "markdown",
   "metadata": {
    "_cell_guid": "2780ca4e-7923-b845-0b6b-5f68a45f6b93"
   },
   "source": [
    "good! the impact is considerable."
   ]
  },
  {
   "cell_type": "markdown",
   "metadata": {
    "_cell_guid": "8aa419c0-6614-7efc-7797-97f4a5158b19"
   },
   "source": [
    "## 4. Embarked ##\n",
    "the embarked feature has some missing value. and we try to fill those with the most occurred value ( 'S' )."
   ]
  },
  {
   "cell_type": "code",
   "execution_count": 219,
   "metadata": {
    "_cell_guid": "0e70e9af-d7cc-8c40-b7d4-2643889c376d"
   },
   "outputs": [
    {
     "name": "stdout",
     "output_type": "stream",
     "text": [
      "  Embarked  Survived\n",
      "0        C  0.553571\n",
      "1        Q  0.389610\n",
      "2        S  0.339009\n"
     ]
    }
   ],
   "source": [
    "for dataset in full_data:\n",
    "    dataset['Embarked'] = dataset['Embarked'].fillna('S')\n",
    "print (train[['Embarked', 'Survived']].groupby(['Embarked'], as_index=False).mean())"
   ]
  },
  {
   "cell_type": "markdown",
   "metadata": {
    "_cell_guid": "e08c9ee8-d6d1-99b7-38bd-f0042c18a5d9"
   },
   "source": [
    "## 5. Fare ##\n",
    "Fare also has some missing value and we will replace it with the median. then we categorize it into 4 ranges."
   ]
  },
  {
   "cell_type": "code",
   "execution_count": 220,
   "metadata": {
    "_cell_guid": "a21335bd-4e8d-66e8-e6a5-5d2173b72d3b"
   },
   "outputs": [
    {
     "name": "stdout",
     "output_type": "stream",
     "text": [
      "   CategoricalFare  Survived\n",
      "0   (-0.001, 7.91]  0.197309\n",
      "1   (7.91, 14.454]  0.303571\n",
      "2   (14.454, 31.0]  0.454955\n",
      "3  (31.0, 512.329]  0.581081\n"
     ]
    },
    {
     "name": "stderr",
     "output_type": "stream",
     "text": [
      "/tmp/ipykernel_48185/3679174374.py:4: FutureWarning: The default of observed=False is deprecated and will be changed to True in a future version of pandas. Pass observed=False to retain current behavior or observed=True to adopt the future default and silence this warning.\n",
      "  print (train[['CategoricalFare', 'Survived']].groupby(['CategoricalFare'], as_index=False).mean())\n"
     ]
    }
   ],
   "source": [
    "for dataset in full_data:\n",
    "    dataset['Fare'] = dataset['Fare'].fillna(train['Fare'].median())\n",
    "train['CategoricalFare'] = pd.qcut(train['Fare'], 4)\n",
    "print (train[['CategoricalFare', 'Survived']].groupby(['CategoricalFare'], as_index=False).mean())"
   ]
  },
  {
   "cell_type": "markdown",
   "metadata": {
    "_cell_guid": "ec8d1b22-a95f-9f16-77ab-7b60d2103852"
   },
   "source": [
    "## 6. Age ##\n",
    "we have plenty of missing values in this feature. # generate random numbers between (mean - std) and (mean + std).\n",
    "then we categorize age into 5 range."
   ]
  },
  {
   "cell_type": "code",
   "execution_count": 221,
   "metadata": {
    "_cell_guid": "b90c2870-ce5d-ae0e-a33d-59e35445500e"
   },
   "outputs": [
    {
     "name": "stdout",
     "output_type": "stream",
     "text": [
      "  CategoricalAge  Survived\n",
      "0  (-0.08, 16.0]  0.531532\n",
      "1   (16.0, 32.0]  0.354312\n",
      "2   (32.0, 48.0]  0.369004\n",
      "3   (48.0, 64.0]  0.434783\n",
      "4   (64.0, 80.0]  0.090909\n"
     ]
    },
    {
     "name": "stderr",
     "output_type": "stream",
     "text": [
      "/tmp/ipykernel_48185/3509540359.py:7: FutureWarning: ChainedAssignmentError: behaviour will change in pandas 3.0!\n",
      "You are setting values through chained assignment. Currently this works in certain cases, but when using Copy-on-Write (which will become the default behaviour in pandas 3.0) this will never work to update the original DataFrame or Series, because the intermediate object on which we are setting values will behave as a copy.\n",
      "A typical example is when you are setting values in a column of a DataFrame, like:\n",
      "\n",
      "df[\"col\"][row_indexer] = value\n",
      "\n",
      "Use `df.loc[row_indexer, \"col\"] = values` instead, to perform the assignment in a single step and ensure this keeps updating the original `df`.\n",
      "\n",
      "See the caveats in the documentation: https://pandas.pydata.org/pandas-docs/stable/user_guide/indexing.html#returning-a-view-versus-a-copy\n",
      "\n",
      "  dataset['Age'][np.isnan(dataset['Age'])] = age_null_random_list\n",
      "/tmp/ipykernel_48185/3509540359.py:7: SettingWithCopyWarning: \n",
      "A value is trying to be set on a copy of a slice from a DataFrame\n",
      "\n",
      "See the caveats in the documentation: https://pandas.pydata.org/pandas-docs/stable/user_guide/indexing.html#returning-a-view-versus-a-copy\n",
      "  dataset['Age'][np.isnan(dataset['Age'])] = age_null_random_list\n",
      "/tmp/ipykernel_48185/3509540359.py:7: FutureWarning: ChainedAssignmentError: behaviour will change in pandas 3.0!\n",
      "You are setting values through chained assignment. Currently this works in certain cases, but when using Copy-on-Write (which will become the default behaviour in pandas 3.0) this will never work to update the original DataFrame or Series, because the intermediate object on which we are setting values will behave as a copy.\n",
      "A typical example is when you are setting values in a column of a DataFrame, like:\n",
      "\n",
      "df[\"col\"][row_indexer] = value\n",
      "\n",
      "Use `df.loc[row_indexer, \"col\"] = values` instead, to perform the assignment in a single step and ensure this keeps updating the original `df`.\n",
      "\n",
      "See the caveats in the documentation: https://pandas.pydata.org/pandas-docs/stable/user_guide/indexing.html#returning-a-view-versus-a-copy\n",
      "\n",
      "  dataset['Age'][np.isnan(dataset['Age'])] = age_null_random_list\n",
      "/tmp/ipykernel_48185/3509540359.py:7: SettingWithCopyWarning: \n",
      "A value is trying to be set on a copy of a slice from a DataFrame\n",
      "\n",
      "See the caveats in the documentation: https://pandas.pydata.org/pandas-docs/stable/user_guide/indexing.html#returning-a-view-versus-a-copy\n",
      "  dataset['Age'][np.isnan(dataset['Age'])] = age_null_random_list\n",
      "/tmp/ipykernel_48185/3509540359.py:12: FutureWarning: The default of observed=False is deprecated and will be changed to True in a future version of pandas. Pass observed=False to retain current behavior or observed=True to adopt the future default and silence this warning.\n",
      "  print (train[['CategoricalAge', 'Survived']].groupby(['CategoricalAge'], as_index=False).mean())\n"
     ]
    }
   ],
   "source": [
    "for dataset in full_data:\n",
    "    age_avg \t   = dataset['Age'].mean()\n",
    "    age_std \t   = dataset['Age'].std()\n",
    "    age_null_count = dataset['Age'].isnull().sum()\n",
    "    \n",
    "    age_null_random_list = np.random.randint(age_avg - age_std, age_avg + age_std, size=age_null_count)\n",
    "    dataset['Age'][np.isnan(dataset['Age'])] = age_null_random_list\n",
    "    dataset['Age'] = dataset['Age'].astype(int)\n",
    "    \n",
    "train['CategoricalAge'] = pd.cut(train['Age'], 5)\n",
    "\n",
    "print (train[['CategoricalAge', 'Survived']].groupby(['CategoricalAge'], as_index=False).mean())"
   ]
  },
  {
   "cell_type": "markdown",
   "metadata": {
    "_cell_guid": "bd25ec3f-b601-c1cc-d701-991fac1621f9"
   },
   "source": [
    "## 7. Name ##\n",
    "inside this feature we can find the title of people."
   ]
  },
  {
   "cell_type": "code",
   "execution_count": 222,
   "metadata": {
    "_cell_guid": "ad042f43-bfe0-ded0-4171-379d8caaa749"
   },
   "outputs": [
    {
     "name": "stdout",
     "output_type": "stream",
     "text": [
      "Sex       female  male\n",
      "Title                 \n",
      "Capt           0     1\n",
      "Col            0     2\n",
      "Countess       1     0\n",
      "Don            0     1\n",
      "Dr             1     6\n",
      "Jonkheer       0     1\n",
      "Lady           1     0\n",
      "Major          0     2\n",
      "Master         0    40\n",
      "Miss         182     0\n",
      "Mlle           2     0\n",
      "Mme            1     0\n",
      "Mr             0   517\n",
      "Mrs          125     0\n",
      "Ms             1     0\n",
      "Rev            0     6\n",
      "Sir            0     1\n"
     ]
    }
   ],
   "source": [
    "def get_title(name):\n",
    "\ttitle_search = re.search(' ([A-Za-z]+)\\.', name)\n",
    "\t# If the title exists, extract and return it.\n",
    "\tif title_search:\n",
    "\t\treturn title_search.group(1)\n",
    "\treturn \"\"\n",
    "\n",
    "for dataset in full_data:\n",
    "    dataset['Title'] = dataset['Name'].apply(get_title)\n",
    "\n",
    "print(pd.crosstab(train['Title'], train['Sex']))"
   ]
  },
  {
   "cell_type": "markdown",
   "metadata": {
    "_cell_guid": "ca5fff8c-7a0d-6c18-2173-b8df6293c50a"
   },
   "source": [
    " so we have titles. let's categorize it and check the title impact on survival rate."
   ]
  },
  {
   "cell_type": "code",
   "execution_count": 223,
   "metadata": {
    "_cell_guid": "8357238b-98fe-632a-acd5-33674a6132ce"
   },
   "outputs": [
    {
     "name": "stdout",
     "output_type": "stream",
     "text": [
      "    Title  Survived\n",
      "0  Master  0.575000\n",
      "1    Miss  0.702703\n",
      "2      Mr  0.156673\n",
      "3     Mrs  0.793651\n",
      "4    Rare  0.347826\n"
     ]
    }
   ],
   "source": [
    "for dataset in full_data:\n",
    "    dataset['Title'] = dataset['Title'].replace(['Lady', 'Countess','Capt', 'Col',\\\n",
    " \t'Don', 'Dr', 'Major', 'Rev', 'Sir', 'Jonkheer', 'Dona'], 'Rare')\n",
    "\n",
    "    dataset['Title'] = dataset['Title'].replace('Mlle', 'Miss')\n",
    "    dataset['Title'] = dataset['Title'].replace('Ms', 'Miss')\n",
    "    dataset['Title'] = dataset['Title'].replace('Mme', 'Mrs')\n",
    "\n",
    "print (train[['Title', 'Survived']].groupby(['Title'], as_index=False).mean())"
   ]
  },
  {
   "cell_type": "markdown",
   "metadata": {
    "_cell_guid": "68fa2057-e27a-e252-0d1b-869c00a303ba"
   },
   "source": [
    "# Data Cleaning #\n",
    "great! now let's clean our data and map our features into numerical values."
   ]
  },
  {
   "cell_type": "code",
   "execution_count": 224,
   "metadata": {
    "_cell_guid": "2502bb70-ce6f-2497-7331-7d1f80521470"
   },
   "outputs": [
    {
     "data": {
      "text/html": [
       "<div>\n",
       "<style scoped>\n",
       "    .dataframe tbody tr th:only-of-type {\n",
       "        vertical-align: middle;\n",
       "    }\n",
       "\n",
       "    .dataframe tbody tr th {\n",
       "        vertical-align: top;\n",
       "    }\n",
       "\n",
       "    .dataframe thead th {\n",
       "        text-align: right;\n",
       "    }\n",
       "</style>\n",
       "<table border=\"1\" class=\"dataframe\">\n",
       "  <thead>\n",
       "    <tr style=\"text-align: right;\">\n",
       "      <th></th>\n",
       "      <th>Survived</th>\n",
       "      <th>Pclass</th>\n",
       "      <th>Sex</th>\n",
       "      <th>Age</th>\n",
       "      <th>Fare</th>\n",
       "      <th>Embarked</th>\n",
       "      <th>IsAlone</th>\n",
       "      <th>Title</th>\n",
       "    </tr>\n",
       "  </thead>\n",
       "  <tbody>\n",
       "    <tr>\n",
       "      <th>0</th>\n",
       "      <td>0</td>\n",
       "      <td>3</td>\n",
       "      <td>1</td>\n",
       "      <td>1</td>\n",
       "      <td>0</td>\n",
       "      <td>0</td>\n",
       "      <td>0</td>\n",
       "      <td>1</td>\n",
       "    </tr>\n",
       "    <tr>\n",
       "      <th>1</th>\n",
       "      <td>1</td>\n",
       "      <td>1</td>\n",
       "      <td>0</td>\n",
       "      <td>2</td>\n",
       "      <td>3</td>\n",
       "      <td>1</td>\n",
       "      <td>0</td>\n",
       "      <td>3</td>\n",
       "    </tr>\n",
       "    <tr>\n",
       "      <th>2</th>\n",
       "      <td>1</td>\n",
       "      <td>3</td>\n",
       "      <td>0</td>\n",
       "      <td>1</td>\n",
       "      <td>1</td>\n",
       "      <td>0</td>\n",
       "      <td>1</td>\n",
       "      <td>2</td>\n",
       "    </tr>\n",
       "    <tr>\n",
       "      <th>3</th>\n",
       "      <td>1</td>\n",
       "      <td>1</td>\n",
       "      <td>0</td>\n",
       "      <td>2</td>\n",
       "      <td>3</td>\n",
       "      <td>0</td>\n",
       "      <td>0</td>\n",
       "      <td>3</td>\n",
       "    </tr>\n",
       "    <tr>\n",
       "      <th>4</th>\n",
       "      <td>0</td>\n",
       "      <td>3</td>\n",
       "      <td>1</td>\n",
       "      <td>2</td>\n",
       "      <td>1</td>\n",
       "      <td>0</td>\n",
       "      <td>1</td>\n",
       "      <td>1</td>\n",
       "    </tr>\n",
       "    <tr>\n",
       "      <th>5</th>\n",
       "      <td>0</td>\n",
       "      <td>3</td>\n",
       "      <td>1</td>\n",
       "      <td>2</td>\n",
       "      <td>1</td>\n",
       "      <td>2</td>\n",
       "      <td>1</td>\n",
       "      <td>1</td>\n",
       "    </tr>\n",
       "    <tr>\n",
       "      <th>6</th>\n",
       "      <td>0</td>\n",
       "      <td>1</td>\n",
       "      <td>1</td>\n",
       "      <td>3</td>\n",
       "      <td>3</td>\n",
       "      <td>0</td>\n",
       "      <td>1</td>\n",
       "      <td>1</td>\n",
       "    </tr>\n",
       "    <tr>\n",
       "      <th>7</th>\n",
       "      <td>0</td>\n",
       "      <td>3</td>\n",
       "      <td>1</td>\n",
       "      <td>0</td>\n",
       "      <td>2</td>\n",
       "      <td>0</td>\n",
       "      <td>0</td>\n",
       "      <td>4</td>\n",
       "    </tr>\n",
       "    <tr>\n",
       "      <th>8</th>\n",
       "      <td>1</td>\n",
       "      <td>3</td>\n",
       "      <td>0</td>\n",
       "      <td>1</td>\n",
       "      <td>1</td>\n",
       "      <td>0</td>\n",
       "      <td>0</td>\n",
       "      <td>3</td>\n",
       "    </tr>\n",
       "    <tr>\n",
       "      <th>9</th>\n",
       "      <td>1</td>\n",
       "      <td>2</td>\n",
       "      <td>0</td>\n",
       "      <td>0</td>\n",
       "      <td>2</td>\n",
       "      <td>1</td>\n",
       "      <td>0</td>\n",
       "      <td>3</td>\n",
       "    </tr>\n",
       "  </tbody>\n",
       "</table>\n",
       "</div>"
      ],
      "text/plain": [
       "   Survived  Pclass  Sex  Age  Fare  Embarked  IsAlone  Title\n",
       "0         0       3    1    1     0         0        0      1\n",
       "1         1       1    0    2     3         1        0      3\n",
       "2         1       3    0    1     1         0        1      2\n",
       "3         1       1    0    2     3         0        0      3\n",
       "4         0       3    1    2     1         0        1      1\n",
       "5         0       3    1    2     1         2        1      1\n",
       "6         0       1    1    3     3         0        1      1\n",
       "7         0       3    1    0     2         0        0      4\n",
       "8         1       3    0    1     1         0        0      3\n",
       "9         1       2    0    0     2         1        0      3"
      ]
     },
     "execution_count": 224,
     "metadata": {},
     "output_type": "execute_result"
    }
   ],
   "source": [
    "for dataset in full_data:\n",
    "    # Mapping Sex\n",
    "    dataset['Sex'] = dataset['Sex'].map( {'female': 0, 'male': 1} ).astype(int)\n",
    "    \n",
    "    # Mapping titles\n",
    "    title_mapping = {\"Mr\": 1, \"Miss\": 2, \"Mrs\": 3, \"Master\": 4, \"Rare\": 5}\n",
    "    dataset['Title'] = dataset['Title'].map(title_mapping)\n",
    "    dataset['Title'] = dataset['Title'].fillna(0)\n",
    "    \n",
    "    # Mapping Embarked\n",
    "    dataset['Embarked'] = dataset['Embarked'].map( {'S': 0, 'C': 1, 'Q': 2} ).astype(int)\n",
    "    \n",
    "    # Mapping Fare\n",
    "    dataset.loc[ dataset['Fare'] <= 7.91, 'Fare'] \t\t\t\t\t\t        = 0\n",
    "    dataset.loc[(dataset['Fare'] > 7.91) & (dataset['Fare'] <= 14.454), 'Fare'] = 1\n",
    "    dataset.loc[(dataset['Fare'] > 14.454) & (dataset['Fare'] <= 31), 'Fare']   = 2\n",
    "    dataset.loc[ dataset['Fare'] > 31, 'Fare'] \t\t\t\t\t\t\t        = 3\n",
    "    dataset['Fare'] = dataset['Fare'].astype(int)\n",
    "    \n",
    "    # Mapping Age\n",
    "    dataset.loc[ dataset['Age'] <= 16, 'Age'] \t\t\t\t\t       = 0\n",
    "    dataset.loc[(dataset['Age'] > 16) & (dataset['Age'] <= 32), 'Age'] = 1\n",
    "    dataset.loc[(dataset['Age'] > 32) & (dataset['Age'] <= 48), 'Age'] = 2\n",
    "    dataset.loc[(dataset['Age'] > 48) & (dataset['Age'] <= 64), 'Age'] = 3\n",
    "    dataset.loc[ dataset['Age'] > 64, 'Age']                           = 4\n",
    "\n",
    "# Feature Selection\n",
    "drop_elements = ['PassengerId', 'Name', 'Ticket', 'Cabin', 'SibSp',\\\n",
    "                 'Parch', 'FamilySize']\n",
    "train = train.drop(drop_elements, axis = 1)\n",
    "train = train.drop(['CategoricalAge', 'CategoricalFare'], axis = 1)\n",
    "\n",
    "test  = test.drop(drop_elements, axis = 1)\n",
    "\n",
    "train.head(10)\n"
   ]
  },
  {
   "cell_type": "code",
   "execution_count": 225,
   "metadata": {},
   "outputs": [
    {
     "name": "stdout",
     "output_type": "stream",
     "text": [
      "CUDA is available\n",
      "Running on NVIDIA GeForce GTX 1060 6GB\n"
     ]
    }
   ],
   "source": [
    "if torch.cuda.is_available():\n",
    "    print(\"CUDA is available\")\n",
    "else:\n",
    "    print(\"CUDA is not available\")\n",
    "    \n",
    "device = torch.device(\"cuda\" if (torch.cuda.is_available()) else \"cpu\")\n",
    "\n",
    "print(\"Running on \" + torch.cuda.get_device_name(0) if torch.cuda.is_available() else \"cpu\")"
   ]
  },
  {
   "cell_type": "code",
   "execution_count": 226,
   "metadata": {},
   "outputs": [
    {
     "name": "stdout",
     "output_type": "stream",
     "text": [
      "Index(['Survived', 'Sex', 'IsAlone', 'Pclass_1', 'Pclass_2', 'Pclass_3',\n",
      "       'Age_0', 'Age_1', 'Age_2', 'Age_3', 'Age_4', 'Fare_0', 'Fare_1',\n",
      "       'Fare_2', 'Fare_3', 'Embarked_0', 'Embarked_1', 'Embarked_2', 'Title_1',\n",
      "       'Title_2', 'Title_3', 'Title_4', 'Title_5'],\n",
      "      dtype='object')\n",
      "Index(['Sex', 'IsAlone', 'Pclass_1', 'Pclass_2', 'Pclass_3', 'Age_0', 'Age_1',\n",
      "       'Age_2', 'Age_3', 'Age_4', 'Fare_0', 'Fare_1', 'Fare_2', 'Fare_3',\n",
      "       'Embarked_0', 'Embarked_1', 'Embarked_2', 'Title_1', 'Title_2',\n",
      "       'Title_3', 'Title_4', 'Title_5'],\n",
      "      dtype='object')\n"
     ]
    },
    {
     "data": {
      "text/html": [
       "<div>\n",
       "<style scoped>\n",
       "    .dataframe tbody tr th:only-of-type {\n",
       "        vertical-align: middle;\n",
       "    }\n",
       "\n",
       "    .dataframe tbody tr th {\n",
       "        vertical-align: top;\n",
       "    }\n",
       "\n",
       "    .dataframe thead th {\n",
       "        text-align: right;\n",
       "    }\n",
       "</style>\n",
       "<table border=\"1\" class=\"dataframe\">\n",
       "  <thead>\n",
       "    <tr style=\"text-align: right;\">\n",
       "      <th></th>\n",
       "      <th>Survived</th>\n",
       "      <th>Sex</th>\n",
       "      <th>IsAlone</th>\n",
       "      <th>Pclass_1</th>\n",
       "      <th>Pclass_2</th>\n",
       "      <th>Pclass_3</th>\n",
       "      <th>Age_0</th>\n",
       "      <th>Age_1</th>\n",
       "      <th>Age_2</th>\n",
       "      <th>Age_3</th>\n",
       "      <th>...</th>\n",
       "      <th>Fare_2</th>\n",
       "      <th>Fare_3</th>\n",
       "      <th>Embarked_0</th>\n",
       "      <th>Embarked_1</th>\n",
       "      <th>Embarked_2</th>\n",
       "      <th>Title_1</th>\n",
       "      <th>Title_2</th>\n",
       "      <th>Title_3</th>\n",
       "      <th>Title_4</th>\n",
       "      <th>Title_5</th>\n",
       "    </tr>\n",
       "  </thead>\n",
       "  <tbody>\n",
       "    <tr>\n",
       "      <th>0</th>\n",
       "      <td>0.0</td>\n",
       "      <td>1.0</td>\n",
       "      <td>0.0</td>\n",
       "      <td>0.0</td>\n",
       "      <td>0.0</td>\n",
       "      <td>1.0</td>\n",
       "      <td>0.0</td>\n",
       "      <td>1.0</td>\n",
       "      <td>0.0</td>\n",
       "      <td>0.0</td>\n",
       "      <td>...</td>\n",
       "      <td>0.0</td>\n",
       "      <td>0.0</td>\n",
       "      <td>1.0</td>\n",
       "      <td>0.0</td>\n",
       "      <td>0.0</td>\n",
       "      <td>1.0</td>\n",
       "      <td>0.0</td>\n",
       "      <td>0.0</td>\n",
       "      <td>0.0</td>\n",
       "      <td>0.0</td>\n",
       "    </tr>\n",
       "    <tr>\n",
       "      <th>1</th>\n",
       "      <td>1.0</td>\n",
       "      <td>0.0</td>\n",
       "      <td>0.0</td>\n",
       "      <td>1.0</td>\n",
       "      <td>0.0</td>\n",
       "      <td>0.0</td>\n",
       "      <td>0.0</td>\n",
       "      <td>0.0</td>\n",
       "      <td>1.0</td>\n",
       "      <td>0.0</td>\n",
       "      <td>...</td>\n",
       "      <td>0.0</td>\n",
       "      <td>1.0</td>\n",
       "      <td>0.0</td>\n",
       "      <td>1.0</td>\n",
       "      <td>0.0</td>\n",
       "      <td>0.0</td>\n",
       "      <td>0.0</td>\n",
       "      <td>1.0</td>\n",
       "      <td>0.0</td>\n",
       "      <td>0.0</td>\n",
       "    </tr>\n",
       "    <tr>\n",
       "      <th>2</th>\n",
       "      <td>1.0</td>\n",
       "      <td>0.0</td>\n",
       "      <td>1.0</td>\n",
       "      <td>0.0</td>\n",
       "      <td>0.0</td>\n",
       "      <td>1.0</td>\n",
       "      <td>0.0</td>\n",
       "      <td>1.0</td>\n",
       "      <td>0.0</td>\n",
       "      <td>0.0</td>\n",
       "      <td>...</td>\n",
       "      <td>0.0</td>\n",
       "      <td>0.0</td>\n",
       "      <td>1.0</td>\n",
       "      <td>0.0</td>\n",
       "      <td>0.0</td>\n",
       "      <td>0.0</td>\n",
       "      <td>1.0</td>\n",
       "      <td>0.0</td>\n",
       "      <td>0.0</td>\n",
       "      <td>0.0</td>\n",
       "    </tr>\n",
       "    <tr>\n",
       "      <th>3</th>\n",
       "      <td>1.0</td>\n",
       "      <td>0.0</td>\n",
       "      <td>0.0</td>\n",
       "      <td>1.0</td>\n",
       "      <td>0.0</td>\n",
       "      <td>0.0</td>\n",
       "      <td>0.0</td>\n",
       "      <td>0.0</td>\n",
       "      <td>1.0</td>\n",
       "      <td>0.0</td>\n",
       "      <td>...</td>\n",
       "      <td>0.0</td>\n",
       "      <td>1.0</td>\n",
       "      <td>1.0</td>\n",
       "      <td>0.0</td>\n",
       "      <td>0.0</td>\n",
       "      <td>0.0</td>\n",
       "      <td>0.0</td>\n",
       "      <td>1.0</td>\n",
       "      <td>0.0</td>\n",
       "      <td>0.0</td>\n",
       "    </tr>\n",
       "    <tr>\n",
       "      <th>4</th>\n",
       "      <td>0.0</td>\n",
       "      <td>1.0</td>\n",
       "      <td>1.0</td>\n",
       "      <td>0.0</td>\n",
       "      <td>0.0</td>\n",
       "      <td>1.0</td>\n",
       "      <td>0.0</td>\n",
       "      <td>0.0</td>\n",
       "      <td>1.0</td>\n",
       "      <td>0.0</td>\n",
       "      <td>...</td>\n",
       "      <td>0.0</td>\n",
       "      <td>0.0</td>\n",
       "      <td>1.0</td>\n",
       "      <td>0.0</td>\n",
       "      <td>0.0</td>\n",
       "      <td>1.0</td>\n",
       "      <td>0.0</td>\n",
       "      <td>0.0</td>\n",
       "      <td>0.0</td>\n",
       "      <td>0.0</td>\n",
       "    </tr>\n",
       "    <tr>\n",
       "      <th>5</th>\n",
       "      <td>0.0</td>\n",
       "      <td>1.0</td>\n",
       "      <td>1.0</td>\n",
       "      <td>0.0</td>\n",
       "      <td>0.0</td>\n",
       "      <td>1.0</td>\n",
       "      <td>0.0</td>\n",
       "      <td>0.0</td>\n",
       "      <td>1.0</td>\n",
       "      <td>0.0</td>\n",
       "      <td>...</td>\n",
       "      <td>0.0</td>\n",
       "      <td>0.0</td>\n",
       "      <td>0.0</td>\n",
       "      <td>0.0</td>\n",
       "      <td>1.0</td>\n",
       "      <td>1.0</td>\n",
       "      <td>0.0</td>\n",
       "      <td>0.0</td>\n",
       "      <td>0.0</td>\n",
       "      <td>0.0</td>\n",
       "    </tr>\n",
       "    <tr>\n",
       "      <th>6</th>\n",
       "      <td>0.0</td>\n",
       "      <td>1.0</td>\n",
       "      <td>1.0</td>\n",
       "      <td>1.0</td>\n",
       "      <td>0.0</td>\n",
       "      <td>0.0</td>\n",
       "      <td>0.0</td>\n",
       "      <td>0.0</td>\n",
       "      <td>0.0</td>\n",
       "      <td>1.0</td>\n",
       "      <td>...</td>\n",
       "      <td>0.0</td>\n",
       "      <td>1.0</td>\n",
       "      <td>1.0</td>\n",
       "      <td>0.0</td>\n",
       "      <td>0.0</td>\n",
       "      <td>1.0</td>\n",
       "      <td>0.0</td>\n",
       "      <td>0.0</td>\n",
       "      <td>0.0</td>\n",
       "      <td>0.0</td>\n",
       "    </tr>\n",
       "    <tr>\n",
       "      <th>7</th>\n",
       "      <td>0.0</td>\n",
       "      <td>1.0</td>\n",
       "      <td>0.0</td>\n",
       "      <td>0.0</td>\n",
       "      <td>0.0</td>\n",
       "      <td>1.0</td>\n",
       "      <td>1.0</td>\n",
       "      <td>0.0</td>\n",
       "      <td>0.0</td>\n",
       "      <td>0.0</td>\n",
       "      <td>...</td>\n",
       "      <td>1.0</td>\n",
       "      <td>0.0</td>\n",
       "      <td>1.0</td>\n",
       "      <td>0.0</td>\n",
       "      <td>0.0</td>\n",
       "      <td>0.0</td>\n",
       "      <td>0.0</td>\n",
       "      <td>0.0</td>\n",
       "      <td>1.0</td>\n",
       "      <td>0.0</td>\n",
       "    </tr>\n",
       "    <tr>\n",
       "      <th>8</th>\n",
       "      <td>1.0</td>\n",
       "      <td>0.0</td>\n",
       "      <td>0.0</td>\n",
       "      <td>0.0</td>\n",
       "      <td>0.0</td>\n",
       "      <td>1.0</td>\n",
       "      <td>0.0</td>\n",
       "      <td>1.0</td>\n",
       "      <td>0.0</td>\n",
       "      <td>0.0</td>\n",
       "      <td>...</td>\n",
       "      <td>0.0</td>\n",
       "      <td>0.0</td>\n",
       "      <td>1.0</td>\n",
       "      <td>0.0</td>\n",
       "      <td>0.0</td>\n",
       "      <td>0.0</td>\n",
       "      <td>0.0</td>\n",
       "      <td>1.0</td>\n",
       "      <td>0.0</td>\n",
       "      <td>0.0</td>\n",
       "    </tr>\n",
       "    <tr>\n",
       "      <th>9</th>\n",
       "      <td>1.0</td>\n",
       "      <td>0.0</td>\n",
       "      <td>0.0</td>\n",
       "      <td>0.0</td>\n",
       "      <td>1.0</td>\n",
       "      <td>0.0</td>\n",
       "      <td>1.0</td>\n",
       "      <td>0.0</td>\n",
       "      <td>0.0</td>\n",
       "      <td>0.0</td>\n",
       "      <td>...</td>\n",
       "      <td>1.0</td>\n",
       "      <td>0.0</td>\n",
       "      <td>0.0</td>\n",
       "      <td>1.0</td>\n",
       "      <td>0.0</td>\n",
       "      <td>0.0</td>\n",
       "      <td>0.0</td>\n",
       "      <td>1.0</td>\n",
       "      <td>0.0</td>\n",
       "      <td>0.0</td>\n",
       "    </tr>\n",
       "  </tbody>\n",
       "</table>\n",
       "<p>10 rows × 23 columns</p>\n",
       "</div>"
      ],
      "text/plain": [
       "   Survived  Sex  IsAlone  Pclass_1  Pclass_2  Pclass_3  Age_0  Age_1  Age_2  \\\n",
       "0       0.0  1.0      0.0       0.0       0.0       1.0    0.0    1.0    0.0   \n",
       "1       1.0  0.0      0.0       1.0       0.0       0.0    0.0    0.0    1.0   \n",
       "2       1.0  0.0      1.0       0.0       0.0       1.0    0.0    1.0    0.0   \n",
       "3       1.0  0.0      0.0       1.0       0.0       0.0    0.0    0.0    1.0   \n",
       "4       0.0  1.0      1.0       0.0       0.0       1.0    0.0    0.0    1.0   \n",
       "5       0.0  1.0      1.0       0.0       0.0       1.0    0.0    0.0    1.0   \n",
       "6       0.0  1.0      1.0       1.0       0.0       0.0    0.0    0.0    0.0   \n",
       "7       0.0  1.0      0.0       0.0       0.0       1.0    1.0    0.0    0.0   \n",
       "8       1.0  0.0      0.0       0.0       0.0       1.0    0.0    1.0    0.0   \n",
       "9       1.0  0.0      0.0       0.0       1.0       0.0    1.0    0.0    0.0   \n",
       "\n",
       "   Age_3  ...  Fare_2  Fare_3  Embarked_0  Embarked_1  Embarked_2  Title_1  \\\n",
       "0    0.0  ...     0.0     0.0         1.0         0.0         0.0      1.0   \n",
       "1    0.0  ...     0.0     1.0         0.0         1.0         0.0      0.0   \n",
       "2    0.0  ...     0.0     0.0         1.0         0.0         0.0      0.0   \n",
       "3    0.0  ...     0.0     1.0         1.0         0.0         0.0      0.0   \n",
       "4    0.0  ...     0.0     0.0         1.0         0.0         0.0      1.0   \n",
       "5    0.0  ...     0.0     0.0         0.0         0.0         1.0      1.0   \n",
       "6    1.0  ...     0.0     1.0         1.0         0.0         0.0      1.0   \n",
       "7    0.0  ...     1.0     0.0         1.0         0.0         0.0      0.0   \n",
       "8    0.0  ...     0.0     0.0         1.0         0.0         0.0      0.0   \n",
       "9    0.0  ...     1.0     0.0         0.0         1.0         0.0      0.0   \n",
       "\n",
       "   Title_2  Title_3  Title_4  Title_5  \n",
       "0      0.0      0.0      0.0      0.0  \n",
       "1      0.0      1.0      0.0      0.0  \n",
       "2      1.0      0.0      0.0      0.0  \n",
       "3      0.0      1.0      0.0      0.0  \n",
       "4      0.0      0.0      0.0      0.0  \n",
       "5      0.0      0.0      0.0      0.0  \n",
       "6      0.0      0.0      0.0      0.0  \n",
       "7      0.0      0.0      1.0      0.0  \n",
       "8      0.0      1.0      0.0      0.0  \n",
       "9      0.0      1.0      0.0      0.0  \n",
       "\n",
       "[10 rows x 23 columns]"
      ]
     },
     "execution_count": 226,
     "metadata": {},
     "output_type": "execute_result"
    }
   ],
   "source": [
    "features = [\"Pclass\",\"Age\", \"Fare\",\"Embarked\", \"Title\"]\n",
    "train = pd.get_dummies(train, columns=features).astype('float32')\n",
    "test = pd.get_dummies(test, columns=features).astype('float32')\n",
    "\n",
    "print(train.columns)\n",
    "print(test.columns)\n",
    "X_train = train.drop(\"Survived\", axis=1)\n",
    "y_train = train[\"Survived\"]\n",
    "X_test = test\n",
    "\n",
    "train.head(10)\n"
   ]
  },
  {
   "cell_type": "code",
   "execution_count": 227,
   "metadata": {},
   "outputs": [
    {
     "name": "stdout",
     "output_type": "stream",
     "text": [
      "(891, 22) (891,) (418, 22)\n"
     ]
    }
   ],
   "source": [
    "print(X_train.shape, y_train.shape, X_test.shape)"
   ]
  },
  {
   "cell_type": "code",
   "execution_count": 228,
   "metadata": {},
   "outputs": [
    {
     "name": "stdout",
     "output_type": "stream",
     "text": [
      "Dense MLP Model with L2 regularization and Dropout\n",
      "Sequential(\n",
      "  (hidden1): Linear(in_features=22, out_features=256, bias=True)\n",
      "  (activation1): ReLU()\n",
      "  (dropout1): Dropout(p=0.8, inplace=False)\n",
      "  (hidden2): Linear(in_features=256, out_features=512, bias=True)\n",
      "  (activation2): ReLU()\n",
      "  (dropout2): Dropout(p=0.8, inplace=False)\n",
      "  (hidden3): Linear(in_features=512, out_features=512, bias=True)\n",
      "  (activation3): ReLU()\n",
      "  (dropout3): Dropout(p=0.8, inplace=False)\n",
      "  (hidden4): Linear(in_features=512, out_features=256, bias=True)\n",
      "  (activation4): ReLU()\n",
      "  (dropout4): Dropout(p=0.8, inplace=False)\n",
      "  (output): Linear(in_features=256, out_features=1, bias=True)\n",
      "  (activation5): Sigmoid()\n",
      ")\n",
      "\n",
      "\n",
      "\n",
      "Simple MLP Model with L2 regularization and Dropout\n",
      "Sequential(\n",
      "  (hidden1): Linear(in_features=22, out_features=64, bias=True)\n",
      "  (activation1): ReLU()\n",
      "  (dropout1): Dropout(p=0.8, inplace=False)\n",
      "  (hidden2): Linear(in_features=64, out_features=64, bias=True)\n",
      "  (activation2): ReLU()\n",
      "  (dropout2): Dropout(p=0.8, inplace=False)\n",
      "  (output): Linear(in_features=64, out_features=1, bias=True)\n",
      "  (activation4): Sigmoid()\n",
      ")\n"
     ]
    }
   ],
   "source": [
    "import collections\n",
    "\n",
    "dropout_prob = 0.8\n",
    "weight_decay = 1e-3\n",
    "\n",
    "\n",
    "input_size = X_train.shape[1]\n",
    "hidden_layer_sizes = [256, 512, 512, 256]\n",
    "\n",
    "\n",
    "model_dense = nn.Sequential(collections.OrderedDict([\n",
    "    ('hidden1', nn.Linear(input_size, hidden_layer_sizes[0])),\n",
    "    ('activation1', nn.ReLU()),\n",
    "    ('dropout1', nn.Dropout(dropout_prob)),  \n",
    "    ('hidden2', nn.Linear(hidden_layer_sizes[0], hidden_layer_sizes[1])),\n",
    "    ('activation2', nn.ReLU()),\n",
    "    ('dropout2', nn.Dropout(dropout_prob)),\n",
    "    ('hidden3', nn.Linear(hidden_layer_sizes[1], hidden_layer_sizes[2])),\n",
    "    ('activation3', nn.ReLU()),\n",
    "    ('dropout3', nn.Dropout(dropout_prob)),\n",
    "    ('hidden4', nn.Linear(hidden_layer_sizes[2], hidden_layer_sizes[3])),\n",
    "    ('activation4', nn.ReLU()),\n",
    "    ('dropout4', nn.Dropout(dropout_prob)),\n",
    "    ('output', nn.Linear(hidden_layer_sizes[3], 1)),\n",
    "    ('activation5', nn.Sigmoid())\n",
    "]))\n",
    "\n",
    "\n",
    "simple_hl_sizes = [64,64]\n",
    "model_simple = nn.Sequential(collections.OrderedDict([\n",
    "    ('hidden1', nn.Linear(input_size, simple_hl_sizes[0])),\n",
    "    ('activation1', nn.ReLU()),\n",
    "    ('dropout1', nn.Dropout(dropout_prob)),\n",
    "    ('hidden2', nn.Linear(simple_hl_sizes[0], simple_hl_sizes[1])),\n",
    "    ('activation2', nn.ReLU()),\n",
    "    ('dropout2', nn.Dropout(dropout_prob)),\n",
    "    ('output', nn.Linear(simple_hl_sizes[-1], 1)),\n",
    "    ('activation4', nn.Sigmoid())\n",
    "        ]))\n",
    "\n",
    "\n",
    "loss_fn = nn.BCELoss()\n",
    "optimizer_dense = torch.optim.Adam(model_dense.parameters(), weight_decay=weight_decay)\n",
    "optimizer_simple = torch.optim.Adam(model_simple.parameters(), weight_decay=weight_decay)\n",
    "\n",
    "print(\"Dense MLP Model with L2 regularization and Dropout\")\n",
    "print(model_dense)\n",
    "print(\"\\n\\n\")\n",
    "print(\"Simple MLP Model with L2 regularization and Dropout\")\n",
    "print(model_simple)"
   ]
  },
  {
   "cell_type": "code",
   "execution_count": 229,
   "metadata": {},
   "outputs": [
    {
     "name": "stdout",
     "output_type": "stream",
     "text": [
      "torch.FloatTensor torch.FloatTensor torch.FloatTensor\n",
      "torch.Size([891, 22]) torch.Size([891, 1]) torch.Size([418, 22])\n"
     ]
    }
   ],
   "source": [
    "y_train = torch.tensor(y_train.values.astype('float32')).reshape(-1, 1)\n",
    "X_train = torch.tensor(X_train.values.astype('float32'))\n",
    "X_test = torch.tensor(X_test.values.astype('float32'))\n",
    "\n",
    "print(y_train.type(), X_train.type(), X_test.type())\n",
    "print(X_train.shape, y_train.shape, X_test.shape)"
   ]
  },
  {
   "cell_type": "code",
   "execution_count": 230,
   "metadata": {},
   "outputs": [],
   "source": [
    "from sklearn.model_selection import StratifiedKFold\n",
    "import torch\n",
    "import torch.optim as optim\n",
    "import torch.nn as nn\n",
    "import datetime\n",
    "\n",
    "def cross_validate(model, n_epochs, optimizer, loss_fn, X_train, y_train, n_splits=9, batch_size=32, shuffle=True, device=device,epoch_print_gap = 1):\n",
    "    skf = StratifiedKFold(n_splits=n_splits, shuffle=shuffle, random_state=42)\n",
    "    fold_results = []\n",
    "    train_results = []\n",
    "\n",
    "    for fold, (train_index, valid_index) in enumerate(skf.split(X_train, y_train)):\n",
    "        print(f\"Fold {fold+1}/{n_splits}\")\n",
    "        X_train_fold, X_valid_fold = X_train[train_index], X_train[valid_index]\n",
    "        y_train_fold, y_valid_fold = y_train[train_index], y_train[valid_index]\n",
    "        \n",
    "        train_dataset = torch.utils.data.TensorDataset(X_train_fold, y_train_fold)\n",
    "        valid_dataset = torch.utils.data.TensorDataset(X_valid_fold, y_valid_fold)\n",
    "\n",
    "        train_loader = torch.utils.data.DataLoader(train_dataset, batch_size=batch_size, shuffle=shuffle)\n",
    "        valid_loader = torch.utils.data.DataLoader(valid_dataset, batch_size=batch_size)\n",
    "\n",
    "        model = model.to(device)\n",
    "\n",
    "        for epoch in range(1, n_epochs + 1):\n",
    "            model.train()\n",
    "            loss_train = 0.0\n",
    "            correct = 0\n",
    "            total = 0\n",
    "            for X_train_batch, y_train_batch in train_loader:\n",
    "                X_train_batch, y_train_batch = X_train_batch.to(device), y_train_batch.to(device)\n",
    "                optimizer.zero_grad()\n",
    "                outputs = model(X_train_batch)\n",
    "                loss = loss_fn(outputs, y_train_batch)\n",
    "                loss.backward()\n",
    "                optimizer.step()\n",
    "                loss_train += loss.item()\n",
    "                total += y_train_batch.size(0)\n",
    "                correct += ((outputs > 0.5).float() == y_train_batch).sum().item()\n",
    "                \n",
    "                \n",
    "                \n",
    "                \n",
    "            accuracy_train = 100 *correct / total\n",
    "\n",
    "            if epoch == 1 or epoch % epoch_print_gap == 0:\n",
    "                print('{} Epoch {}, Training loss {}, Training Accuracy {:.2f}%'.format(\n",
    "                    datetime.datetime.now(), epoch, float(loss_train), float(accuracy_train)))\n",
    "        train_results.append(accuracy_train)\n",
    "\n",
    "        model.eval()\n",
    "        correct = 0\n",
    "        total = 0\n",
    "        \n",
    "        with torch.no_grad():\n",
    "            for X_valid_batch, y_valid_batch in valid_loader:\n",
    "                X_valid_batch, y_valid_batch = X_valid_batch.to(device), y_valid_batch.to(device)\n",
    "                outputs = model(X_valid_batch)\n",
    "                predicted = (outputs > 0.5).float()\n",
    "                total += y_valid_batch.size(0)\n",
    "                correct += (predicted == y_valid_batch).sum().item()\n",
    "   \n",
    "                \n",
    "\n",
    "                \n",
    "        fold_accuracy = 100 *correct / total\n",
    "        print('Fold Accuracy: {:.2f}%'.format(fold_accuracy))\n",
    "        fold_results.append(fold_accuracy)\n",
    "\n",
    "    return (train_results, fold_results)"
   ]
  },
  {
   "cell_type": "code",
   "execution_count": 231,
   "metadata": {},
   "outputs": [
    {
     "name": "stdout",
     "output_type": "stream",
     "text": [
      "Fold 1/5\n",
      "2024-02-11 21:49:56.210822 Epoch 1, Training loss 15.779295980930328, Training Accuracy 56.04%\n",
      "2024-02-11 21:49:58.097722 Epoch 50, Training loss 10.57633313536644, Training Accuracy 81.18%\n",
      "2024-02-11 21:50:00.009635 Epoch 100, Training loss 9.834620922803879, Training Accuracy 81.46%\n",
      "2024-02-11 21:50:01.925746 Epoch 150, Training loss 9.312837794423103, Training Accuracy 83.43%\n",
      "2024-02-11 21:50:03.888003 Epoch 200, Training loss 9.362904727458954, Training Accuracy 82.16%\n"
     ]
    },
    {
     "ename": "KeyboardInterrupt",
     "evalue": "",
     "output_type": "error",
     "traceback": [
      "\u001b[0;31m---------------------------------------------------------------------------\u001b[0m",
      "\u001b[0;31mKeyboardInterrupt\u001b[0m                         Traceback (most recent call last)",
      "Cell \u001b[0;32mIn[231], line 2\u001b[0m\n\u001b[1;32m      1\u001b[0m n_epochs \u001b[38;5;241m=\u001b[39m \u001b[38;5;241m10000\u001b[39m\n\u001b[0;32m----> 2\u001b[0m train_simple, test_simple \u001b[38;5;241m=\u001b[39m \u001b[43mcross_validate\u001b[49m\u001b[43m(\u001b[49m\u001b[43mmodel\u001b[49m\u001b[43m \u001b[49m\u001b[38;5;241;43m=\u001b[39;49m\u001b[43m \u001b[49m\u001b[43mmodel_simple\u001b[49m\u001b[43m,\u001b[49m\n\u001b[1;32m      3\u001b[0m \u001b[43m               \u001b[49m\u001b[43mn_epochs\u001b[49m\u001b[43m \u001b[49m\u001b[38;5;241;43m=\u001b[39;49m\u001b[43m \u001b[49m\u001b[43mn_epochs\u001b[49m\u001b[43m,\u001b[49m\n\u001b[1;32m      4\u001b[0m \u001b[43m               \u001b[49m\u001b[43moptimizer\u001b[49m\u001b[43m \u001b[49m\u001b[38;5;241;43m=\u001b[39;49m\u001b[43m \u001b[49m\u001b[43moptimizer_simple\u001b[49m\u001b[43m,\u001b[49m\n\u001b[1;32m      5\u001b[0m \u001b[43m               \u001b[49m\u001b[43mloss_fn\u001b[49m\u001b[43m \u001b[49m\u001b[38;5;241;43m=\u001b[39;49m\u001b[43m \u001b[49m\u001b[43mloss_fn\u001b[49m\u001b[43m,\u001b[49m\n\u001b[1;32m      6\u001b[0m \u001b[43m               \u001b[49m\u001b[43mX_train\u001b[49m\u001b[43m \u001b[49m\u001b[38;5;241;43m=\u001b[39;49m\u001b[43m \u001b[49m\u001b[43mX_train\u001b[49m\u001b[43m,\u001b[49m\n\u001b[1;32m      7\u001b[0m \u001b[43m               \u001b[49m\u001b[43my_train\u001b[49m\u001b[43m \u001b[49m\u001b[38;5;241;43m=\u001b[39;49m\u001b[43m \u001b[49m\u001b[43my_train\u001b[49m\u001b[43m,\u001b[49m\n\u001b[1;32m      8\u001b[0m \u001b[43m               \u001b[49m\u001b[43mn_splits\u001b[49m\u001b[38;5;241;43m=\u001b[39;49m\u001b[38;5;241;43m5\u001b[39;49m\u001b[43m,\u001b[49m\u001b[43m \u001b[49m\n\u001b[1;32m      9\u001b[0m \u001b[43m               \u001b[49m\u001b[43mbatch_size\u001b[49m\u001b[38;5;241;43m=\u001b[39;49m\u001b[38;5;241;43m32\u001b[39;49m\u001b[43m,\u001b[49m\u001b[43m \u001b[49m\n\u001b[1;32m     10\u001b[0m \u001b[43m               \u001b[49m\u001b[43mshuffle\u001b[49m\u001b[38;5;241;43m=\u001b[39;49m\u001b[38;5;28;43;01mTrue\u001b[39;49;00m\u001b[43m,\u001b[49m\u001b[43m \u001b[49m\n\u001b[1;32m     11\u001b[0m \u001b[43m               \u001b[49m\u001b[43mdevice\u001b[49m\u001b[38;5;241;43m=\u001b[39;49m\u001b[43mdevice\u001b[49m\u001b[43m,\u001b[49m\n\u001b[1;32m     12\u001b[0m \u001b[43m               \u001b[49m\u001b[43mepoch_print_gap\u001b[49m\u001b[38;5;241;43m=\u001b[39;49m\u001b[38;5;241;43m50\u001b[39;49m\u001b[43m)\u001b[49m\n",
      "Cell \u001b[0;32mIn[230], line 33\u001b[0m, in \u001b[0;36mcross_validate\u001b[0;34m(model, n_epochs, optimizer, loss_fn, X_train, y_train, n_splits, batch_size, shuffle, device, epoch_print_gap)\u001b[0m\n\u001b[1;32m     31\u001b[0m X_train_batch, y_train_batch \u001b[38;5;241m=\u001b[39m X_train_batch\u001b[38;5;241m.\u001b[39mto(device), y_train_batch\u001b[38;5;241m.\u001b[39mto(device)\n\u001b[1;32m     32\u001b[0m optimizer\u001b[38;5;241m.\u001b[39mzero_grad()\n\u001b[0;32m---> 33\u001b[0m outputs \u001b[38;5;241m=\u001b[39m \u001b[43mmodel\u001b[49m\u001b[43m(\u001b[49m\u001b[43mX_train_batch\u001b[49m\u001b[43m)\u001b[49m\n\u001b[1;32m     34\u001b[0m loss \u001b[38;5;241m=\u001b[39m loss_fn(outputs, y_train_batch)\n\u001b[1;32m     35\u001b[0m loss\u001b[38;5;241m.\u001b[39mbackward()\n",
      "File \u001b[0;32m~/.local/lib/python3.10/site-packages/torch/nn/modules/module.py:1511\u001b[0m, in \u001b[0;36mModule._wrapped_call_impl\u001b[0;34m(self, *args, **kwargs)\u001b[0m\n\u001b[1;32m   1509\u001b[0m     \u001b[38;5;28;01mreturn\u001b[39;00m \u001b[38;5;28mself\u001b[39m\u001b[38;5;241m.\u001b[39m_compiled_call_impl(\u001b[38;5;241m*\u001b[39margs, \u001b[38;5;241m*\u001b[39m\u001b[38;5;241m*\u001b[39mkwargs)  \u001b[38;5;66;03m# type: ignore[misc]\u001b[39;00m\n\u001b[1;32m   1510\u001b[0m \u001b[38;5;28;01melse\u001b[39;00m:\n\u001b[0;32m-> 1511\u001b[0m     \u001b[38;5;28;01mreturn\u001b[39;00m \u001b[38;5;28;43mself\u001b[39;49m\u001b[38;5;241;43m.\u001b[39;49m\u001b[43m_call_impl\u001b[49m\u001b[43m(\u001b[49m\u001b[38;5;241;43m*\u001b[39;49m\u001b[43margs\u001b[49m\u001b[43m,\u001b[49m\u001b[43m \u001b[49m\u001b[38;5;241;43m*\u001b[39;49m\u001b[38;5;241;43m*\u001b[39;49m\u001b[43mkwargs\u001b[49m\u001b[43m)\u001b[49m\n",
      "File \u001b[0;32m~/.local/lib/python3.10/site-packages/torch/nn/modules/module.py:1520\u001b[0m, in \u001b[0;36mModule._call_impl\u001b[0;34m(self, *args, **kwargs)\u001b[0m\n\u001b[1;32m   1515\u001b[0m \u001b[38;5;66;03m# If we don't have any hooks, we want to skip the rest of the logic in\u001b[39;00m\n\u001b[1;32m   1516\u001b[0m \u001b[38;5;66;03m# this function, and just call forward.\u001b[39;00m\n\u001b[1;32m   1517\u001b[0m \u001b[38;5;28;01mif\u001b[39;00m \u001b[38;5;129;01mnot\u001b[39;00m (\u001b[38;5;28mself\u001b[39m\u001b[38;5;241m.\u001b[39m_backward_hooks \u001b[38;5;129;01mor\u001b[39;00m \u001b[38;5;28mself\u001b[39m\u001b[38;5;241m.\u001b[39m_backward_pre_hooks \u001b[38;5;129;01mor\u001b[39;00m \u001b[38;5;28mself\u001b[39m\u001b[38;5;241m.\u001b[39m_forward_hooks \u001b[38;5;129;01mor\u001b[39;00m \u001b[38;5;28mself\u001b[39m\u001b[38;5;241m.\u001b[39m_forward_pre_hooks\n\u001b[1;32m   1518\u001b[0m         \u001b[38;5;129;01mor\u001b[39;00m _global_backward_pre_hooks \u001b[38;5;129;01mor\u001b[39;00m _global_backward_hooks\n\u001b[1;32m   1519\u001b[0m         \u001b[38;5;129;01mor\u001b[39;00m _global_forward_hooks \u001b[38;5;129;01mor\u001b[39;00m _global_forward_pre_hooks):\n\u001b[0;32m-> 1520\u001b[0m     \u001b[38;5;28;01mreturn\u001b[39;00m \u001b[43mforward_call\u001b[49m\u001b[43m(\u001b[49m\u001b[38;5;241;43m*\u001b[39;49m\u001b[43margs\u001b[49m\u001b[43m,\u001b[49m\u001b[43m \u001b[49m\u001b[38;5;241;43m*\u001b[39;49m\u001b[38;5;241;43m*\u001b[39;49m\u001b[43mkwargs\u001b[49m\u001b[43m)\u001b[49m\n\u001b[1;32m   1522\u001b[0m \u001b[38;5;28;01mtry\u001b[39;00m:\n\u001b[1;32m   1523\u001b[0m     result \u001b[38;5;241m=\u001b[39m \u001b[38;5;28;01mNone\u001b[39;00m\n",
      "File \u001b[0;32m~/.local/lib/python3.10/site-packages/torch/nn/modules/container.py:217\u001b[0m, in \u001b[0;36mSequential.forward\u001b[0;34m(self, input)\u001b[0m\n\u001b[1;32m    215\u001b[0m \u001b[38;5;28;01mdef\u001b[39;00m \u001b[38;5;21mforward\u001b[39m(\u001b[38;5;28mself\u001b[39m, \u001b[38;5;28minput\u001b[39m):\n\u001b[1;32m    216\u001b[0m     \u001b[38;5;28;01mfor\u001b[39;00m module \u001b[38;5;129;01min\u001b[39;00m \u001b[38;5;28mself\u001b[39m:\n\u001b[0;32m--> 217\u001b[0m         \u001b[38;5;28minput\u001b[39m \u001b[38;5;241m=\u001b[39m \u001b[43mmodule\u001b[49m\u001b[43m(\u001b[49m\u001b[38;5;28;43minput\u001b[39;49m\u001b[43m)\u001b[49m\n\u001b[1;32m    218\u001b[0m     \u001b[38;5;28;01mreturn\u001b[39;00m \u001b[38;5;28minput\u001b[39m\n",
      "File \u001b[0;32m~/.local/lib/python3.10/site-packages/torch/nn/modules/module.py:1511\u001b[0m, in \u001b[0;36mModule._wrapped_call_impl\u001b[0;34m(self, *args, **kwargs)\u001b[0m\n\u001b[1;32m   1509\u001b[0m     \u001b[38;5;28;01mreturn\u001b[39;00m \u001b[38;5;28mself\u001b[39m\u001b[38;5;241m.\u001b[39m_compiled_call_impl(\u001b[38;5;241m*\u001b[39margs, \u001b[38;5;241m*\u001b[39m\u001b[38;5;241m*\u001b[39mkwargs)  \u001b[38;5;66;03m# type: ignore[misc]\u001b[39;00m\n\u001b[1;32m   1510\u001b[0m \u001b[38;5;28;01melse\u001b[39;00m:\n\u001b[0;32m-> 1511\u001b[0m     \u001b[38;5;28;01mreturn\u001b[39;00m \u001b[38;5;28;43mself\u001b[39;49m\u001b[38;5;241;43m.\u001b[39;49m\u001b[43m_call_impl\u001b[49m\u001b[43m(\u001b[49m\u001b[38;5;241;43m*\u001b[39;49m\u001b[43margs\u001b[49m\u001b[43m,\u001b[49m\u001b[43m \u001b[49m\u001b[38;5;241;43m*\u001b[39;49m\u001b[38;5;241;43m*\u001b[39;49m\u001b[43mkwargs\u001b[49m\u001b[43m)\u001b[49m\n",
      "File \u001b[0;32m~/.local/lib/python3.10/site-packages/torch/nn/modules/module.py:1520\u001b[0m, in \u001b[0;36mModule._call_impl\u001b[0;34m(self, *args, **kwargs)\u001b[0m\n\u001b[1;32m   1515\u001b[0m \u001b[38;5;66;03m# If we don't have any hooks, we want to skip the rest of the logic in\u001b[39;00m\n\u001b[1;32m   1516\u001b[0m \u001b[38;5;66;03m# this function, and just call forward.\u001b[39;00m\n\u001b[1;32m   1517\u001b[0m \u001b[38;5;28;01mif\u001b[39;00m \u001b[38;5;129;01mnot\u001b[39;00m (\u001b[38;5;28mself\u001b[39m\u001b[38;5;241m.\u001b[39m_backward_hooks \u001b[38;5;129;01mor\u001b[39;00m \u001b[38;5;28mself\u001b[39m\u001b[38;5;241m.\u001b[39m_backward_pre_hooks \u001b[38;5;129;01mor\u001b[39;00m \u001b[38;5;28mself\u001b[39m\u001b[38;5;241m.\u001b[39m_forward_hooks \u001b[38;5;129;01mor\u001b[39;00m \u001b[38;5;28mself\u001b[39m\u001b[38;5;241m.\u001b[39m_forward_pre_hooks\n\u001b[1;32m   1518\u001b[0m         \u001b[38;5;129;01mor\u001b[39;00m _global_backward_pre_hooks \u001b[38;5;129;01mor\u001b[39;00m _global_backward_hooks\n\u001b[1;32m   1519\u001b[0m         \u001b[38;5;129;01mor\u001b[39;00m _global_forward_hooks \u001b[38;5;129;01mor\u001b[39;00m _global_forward_pre_hooks):\n\u001b[0;32m-> 1520\u001b[0m     \u001b[38;5;28;01mreturn\u001b[39;00m \u001b[43mforward_call\u001b[49m\u001b[43m(\u001b[49m\u001b[38;5;241;43m*\u001b[39;49m\u001b[43margs\u001b[49m\u001b[43m,\u001b[49m\u001b[43m \u001b[49m\u001b[38;5;241;43m*\u001b[39;49m\u001b[38;5;241;43m*\u001b[39;49m\u001b[43mkwargs\u001b[49m\u001b[43m)\u001b[49m\n\u001b[1;32m   1522\u001b[0m \u001b[38;5;28;01mtry\u001b[39;00m:\n\u001b[1;32m   1523\u001b[0m     result \u001b[38;5;241m=\u001b[39m \u001b[38;5;28;01mNone\u001b[39;00m\n",
      "File \u001b[0;32m~/.local/lib/python3.10/site-packages/torch/nn/modules/activation.py:292\u001b[0m, in \u001b[0;36mSigmoid.forward\u001b[0;34m(self, input)\u001b[0m\n\u001b[1;32m    291\u001b[0m \u001b[38;5;28;01mdef\u001b[39;00m \u001b[38;5;21mforward\u001b[39m(\u001b[38;5;28mself\u001b[39m, \u001b[38;5;28minput\u001b[39m: Tensor) \u001b[38;5;241m-\u001b[39m\u001b[38;5;241m>\u001b[39m Tensor:\n\u001b[0;32m--> 292\u001b[0m     \u001b[38;5;28;01mreturn\u001b[39;00m \u001b[43mtorch\u001b[49m\u001b[38;5;241;43m.\u001b[39;49m\u001b[43msigmoid\u001b[49m\u001b[43m(\u001b[49m\u001b[38;5;28;43minput\u001b[39;49m\u001b[43m)\u001b[49m\n",
      "\u001b[0;31mKeyboardInterrupt\u001b[0m: "
     ]
    }
   ],
   "source": [
    "n_epochs = 10000\n",
    "train_simple, test_simple = cross_validate(model = model_simple,\n",
    "               n_epochs = n_epochs,\n",
    "               optimizer = optimizer_simple,\n",
    "               loss_fn = loss_fn,\n",
    "               X_train = X_train,\n",
    "               y_train = y_train,\n",
    "               n_splits=5, \n",
    "               batch_size=32, \n",
    "               shuffle=True, \n",
    "               device=device,\n",
    "               epoch_print_gap=50)\n"
   ]
  },
  {
   "cell_type": "code",
   "execution_count": null,
   "metadata": {},
   "outputs": [
    {
     "name": "stdout",
     "output_type": "stream",
     "text": [
      "Fold 1/5\n",
      "2024-02-11 21:44:44.366701 Epoch 1, Training loss 16.396665036678314, Training Accuracy 54.63%\n",
      "2024-02-11 21:44:44.850975 Epoch 10, Training loss 13.97980397939682, Training Accuracy 67.98%\n",
      "2024-02-11 21:44:45.391230 Epoch 20, Training loss 12.780816286802292, Training Accuracy 76.40%\n",
      "2024-02-11 21:44:45.931443 Epoch 30, Training loss 12.5892393887043, Training Accuracy 76.69%\n",
      "2024-02-11 21:44:46.474312 Epoch 40, Training loss 12.45219111442566, Training Accuracy 76.26%\n",
      "2024-02-11 21:44:47.014395 Epoch 50, Training loss 11.792806416749954, Training Accuracy 76.97%\n",
      "2024-02-11 21:44:47.556370 Epoch 60, Training loss 12.455470860004425, Training Accuracy 80.62%\n",
      "2024-02-11 21:44:48.109302 Epoch 70, Training loss 11.65276175737381, Training Accuracy 79.07%\n",
      "2024-02-11 21:44:48.647028 Epoch 80, Training loss 11.390662997961044, Training Accuracy 79.92%\n",
      "2024-02-11 21:44:49.185154 Epoch 90, Training loss 11.730058282613754, Training Accuracy 79.92%\n",
      "2024-02-11 21:44:49.723013 Epoch 100, Training loss 11.514463603496552, Training Accuracy 80.76%\n",
      "2024-02-11 21:44:50.261920 Epoch 110, Training loss 11.31113064289093, Training Accuracy 80.62%\n",
      "2024-02-11 21:44:50.798493 Epoch 120, Training loss 11.085971653461456, Training Accuracy 79.92%\n",
      "2024-02-11 21:44:51.336660 Epoch 130, Training loss 11.26426076889038, Training Accuracy 80.48%\n",
      "2024-02-11 21:44:51.873584 Epoch 140, Training loss 11.50467735528946, Training Accuracy 78.79%\n",
      "2024-02-11 21:44:52.416457 Epoch 150, Training loss 11.160379707813263, Training Accuracy 80.34%\n",
      "2024-02-11 21:44:52.959872 Epoch 160, Training loss 11.695135623216629, Training Accuracy 81.18%\n",
      "2024-02-11 21:44:53.505494 Epoch 170, Training loss 10.892726004123688, Training Accuracy 82.02%\n",
      "2024-02-11 21:44:54.054409 Epoch 180, Training loss 11.467005163431168, Training Accuracy 80.20%\n",
      "2024-02-11 21:44:54.603130 Epoch 190, Training loss 11.743967741727829, Training Accuracy 79.78%\n",
      "2024-02-11 21:44:55.154717 Epoch 200, Training loss 11.495070964097977, Training Accuracy 80.20%\n",
      "2024-02-11 21:44:55.703307 Epoch 210, Training loss 10.644844830036163, Training Accuracy 81.74%\n",
      "2024-02-11 21:44:56.257099 Epoch 220, Training loss 11.355989754199982, Training Accuracy 79.78%\n",
      "2024-02-11 21:44:56.804945 Epoch 230, Training loss 11.361701339483261, Training Accuracy 78.79%\n",
      "2024-02-11 21:44:57.352442 Epoch 240, Training loss 11.802377074956894, Training Accuracy 78.93%\n",
      "2024-02-11 21:44:57.899986 Epoch 250, Training loss 11.417969226837158, Training Accuracy 80.48%\n",
      "2024-02-11 21:44:58.446656 Epoch 260, Training loss 11.468170166015625, Training Accuracy 80.34%\n",
      "2024-02-11 21:44:58.992067 Epoch 270, Training loss 11.269162595272064, Training Accuracy 80.48%\n",
      "2024-02-11 21:44:59.539255 Epoch 280, Training loss 11.09487909078598, Training Accuracy 80.76%\n",
      "2024-02-11 21:45:00.086986 Epoch 290, Training loss 11.315159410238266, Training Accuracy 80.62%\n",
      "2024-02-11 21:45:00.623196 Epoch 300, Training loss 11.440553307533264, Training Accuracy 80.20%\n",
      "2024-02-11 21:45:01.158542 Epoch 310, Training loss 11.121494561433792, Training Accuracy 80.20%\n",
      "2024-02-11 21:45:01.692495 Epoch 320, Training loss 11.244605332612991, Training Accuracy 80.76%\n",
      "2024-02-11 21:45:02.245108 Epoch 330, Training loss 11.04478108882904, Training Accuracy 80.48%\n",
      "2024-02-11 21:45:02.780125 Epoch 340, Training loss 11.58552810549736, Training Accuracy 80.90%\n",
      "2024-02-11 21:45:03.313318 Epoch 350, Training loss 11.371030300855637, Training Accuracy 80.20%\n",
      "2024-02-11 21:45:03.849126 Epoch 360, Training loss 11.38883763551712, Training Accuracy 79.63%\n",
      "2024-02-11 21:45:04.389109 Epoch 370, Training loss 11.344788819551468, Training Accuracy 80.34%\n",
      "2024-02-11 21:45:04.925299 Epoch 380, Training loss 11.432701349258423, Training Accuracy 80.62%\n",
      "2024-02-11 21:45:05.466202 Epoch 390, Training loss 11.242473483085632, Training Accuracy 80.90%\n",
      "2024-02-11 21:45:06.000974 Epoch 400, Training loss 10.865533918142319, Training Accuracy 80.48%\n",
      "Fold Accuracy: 82.68%\n",
      "Fold 2/5\n",
      "2024-02-11 21:45:06.059445 Epoch 1, Training loss 11.279275119304657, Training Accuracy 80.50%\n",
      "2024-02-11 21:45:06.541457 Epoch 10, Training loss 11.435108453035355, Training Accuracy 78.82%\n",
      "2024-02-11 21:45:07.079215 Epoch 20, Training loss 11.190309911966324, Training Accuracy 80.22%\n",
      "2024-02-11 21:45:07.602094 Epoch 30, Training loss 10.653086125850677, Training Accuracy 81.07%\n",
      "2024-02-11 21:45:08.118712 Epoch 40, Training loss 10.997937828302383, Training Accuracy 79.94%\n",
      "2024-02-11 21:45:08.691451 Epoch 50, Training loss 11.390889823436737, Training Accuracy 80.79%\n",
      "2024-02-11 21:45:09.207770 Epoch 60, Training loss 11.347376495599747, Training Accuracy 80.65%\n",
      "2024-02-11 21:45:09.719422 Epoch 70, Training loss 10.991392821073532, Training Accuracy 80.50%\n",
      "2024-02-11 21:45:10.233074 Epoch 80, Training loss 11.145086660981178, Training Accuracy 80.50%\n",
      "2024-02-11 21:45:10.751793 Epoch 90, Training loss 11.19351902604103, Training Accuracy 79.94%\n",
      "2024-02-11 21:45:11.269201 Epoch 100, Training loss 11.103737771511078, Training Accuracy 79.80%\n",
      "2024-02-11 21:45:11.793751 Epoch 110, Training loss 10.686880320310593, Training Accuracy 80.65%\n",
      "2024-02-11 21:45:12.334706 Epoch 120, Training loss 10.964008957147598, Training Accuracy 79.38%\n",
      "2024-02-11 21:45:12.866749 Epoch 130, Training loss 10.586424082517624, Training Accuracy 81.21%\n",
      "2024-02-11 21:45:13.388571 Epoch 140, Training loss 11.76469099521637, Training Accuracy 79.80%\n",
      "2024-02-11 21:45:13.901936 Epoch 150, Training loss 10.908626049757004, Training Accuracy 80.22%\n",
      "2024-02-11 21:45:14.415008 Epoch 160, Training loss 10.73217985033989, Training Accuracy 81.35%\n",
      "2024-02-11 21:45:14.928769 Epoch 170, Training loss 11.153607934713364, Training Accuracy 80.36%\n",
      "2024-02-11 21:45:15.440066 Epoch 180, Training loss 11.189891636371613, Training Accuracy 79.38%\n",
      "2024-02-11 21:45:15.949985 Epoch 190, Training loss 11.69743236899376, Training Accuracy 80.36%\n",
      "2024-02-11 21:45:16.478895 Epoch 200, Training loss 11.239236533641815, Training Accuracy 81.49%\n",
      "2024-02-11 21:45:17.000339 Epoch 210, Training loss 11.681656867265701, Training Accuracy 79.94%\n",
      "2024-02-11 21:45:17.521630 Epoch 220, Training loss 11.199576258659363, Training Accuracy 79.94%\n",
      "2024-02-11 21:45:18.047253 Epoch 230, Training loss 10.633186668157578, Training Accuracy 81.49%\n",
      "2024-02-11 21:45:18.584369 Epoch 240, Training loss 11.541710644960403, Training Accuracy 81.35%\n",
      "2024-02-11 21:45:19.120641 Epoch 250, Training loss 11.146297097206116, Training Accuracy 80.79%\n",
      "2024-02-11 21:45:19.657720 Epoch 260, Training loss 11.284363448619843, Training Accuracy 80.65%\n",
      "2024-02-11 21:45:20.199838 Epoch 270, Training loss 11.077113926410675, Training Accuracy 81.07%\n",
      "2024-02-11 21:45:20.740843 Epoch 280, Training loss 11.106103926897049, Training Accuracy 81.07%\n",
      "2024-02-11 21:45:21.263411 Epoch 290, Training loss 10.88983553647995, Training Accuracy 80.50%\n",
      "2024-02-11 21:45:21.794336 Epoch 300, Training loss 11.030164808034897, Training Accuracy 80.65%\n",
      "2024-02-11 21:45:22.327667 Epoch 310, Training loss 11.152973920106888, Training Accuracy 80.36%\n",
      "2024-02-11 21:45:22.860257 Epoch 320, Training loss 10.688922315835953, Training Accuracy 81.49%\n",
      "2024-02-11 21:45:23.394132 Epoch 330, Training loss 11.257973909378052, Training Accuracy 80.93%\n",
      "2024-02-11 21:45:23.925253 Epoch 340, Training loss 10.712671101093292, Training Accuracy 80.50%\n",
      "2024-02-11 21:45:24.450633 Epoch 350, Training loss 11.026814937591553, Training Accuracy 81.77%\n",
      "2024-02-11 21:45:24.975229 Epoch 360, Training loss 11.11084395647049, Training Accuracy 79.38%\n",
      "2024-02-11 21:45:25.503504 Epoch 370, Training loss 11.096484899520874, Training Accuracy 80.65%\n",
      "2024-02-11 21:45:26.032273 Epoch 380, Training loss 11.17851409316063, Training Accuracy 81.35%\n",
      "2024-02-11 21:45:26.561252 Epoch 390, Training loss 11.005054235458374, Training Accuracy 80.22%\n",
      "2024-02-11 21:45:27.092407 Epoch 400, Training loss 11.020341992378235, Training Accuracy 81.35%\n",
      "Fold Accuracy: 83.71%\n",
      "Fold 3/5\n",
      "2024-02-11 21:45:27.150192 Epoch 1, Training loss 11.328208357095718, Training Accuracy 80.36%\n",
      "2024-02-11 21:45:27.627058 Epoch 10, Training loss 10.902073621749878, Training Accuracy 80.65%\n",
      "2024-02-11 21:45:28.152535 Epoch 20, Training loss 10.927307814359665, Training Accuracy 81.91%\n",
      "2024-02-11 21:45:28.667012 Epoch 30, Training loss 10.54152575135231, Training Accuracy 81.21%\n",
      "2024-02-11 21:45:29.174920 Epoch 40, Training loss 10.960199922323227, Training Accuracy 81.49%\n",
      "2024-02-11 21:45:29.683579 Epoch 50, Training loss 10.715613931417465, Training Accuracy 81.63%\n",
      "2024-02-11 21:45:30.191882 Epoch 60, Training loss 10.272532314062119, Training Accuracy 82.05%\n",
      "2024-02-11 21:45:30.699553 Epoch 70, Training loss 11.154230311512947, Training Accuracy 80.50%\n",
      "2024-02-11 21:45:31.208090 Epoch 80, Training loss 11.120519280433655, Training Accuracy 82.47%\n",
      "2024-02-11 21:45:31.719817 Epoch 90, Training loss 11.10848531126976, Training Accuracy 80.65%\n",
      "2024-02-11 21:45:32.232138 Epoch 100, Training loss 10.814386934041977, Training Accuracy 80.65%\n",
      "2024-02-11 21:45:32.745084 Epoch 110, Training loss 10.995670765638351, Training Accuracy 80.08%\n",
      "2024-02-11 21:45:33.252856 Epoch 120, Training loss 11.174680352210999, Training Accuracy 80.36%\n",
      "2024-02-11 21:45:33.760649 Epoch 130, Training loss 10.497807383537292, Training Accuracy 82.61%\n",
      "2024-02-11 21:45:34.269078 Epoch 140, Training loss 10.948529362678528, Training Accuracy 80.22%\n",
      "2024-02-11 21:45:34.777111 Epoch 150, Training loss 10.929287254810333, Training Accuracy 81.91%\n",
      "2024-02-11 21:45:35.285175 Epoch 160, Training loss 11.043921649456024, Training Accuracy 80.93%\n",
      "2024-02-11 21:45:35.793592 Epoch 170, Training loss 10.818512350320816, Training Accuracy 81.07%\n",
      "2024-02-11 21:45:36.309104 Epoch 180, Training loss 10.315004527568817, Training Accuracy 80.93%\n",
      "2024-02-11 21:45:36.843936 Epoch 190, Training loss 10.477882981300354, Training Accuracy 81.91%\n",
      "2024-02-11 21:45:37.381260 Epoch 200, Training loss 11.278573840856552, Training Accuracy 82.47%\n",
      "2024-02-11 21:45:37.917665 Epoch 210, Training loss 10.63606607913971, Training Accuracy 81.49%\n",
      "2024-02-11 21:45:38.455633 Epoch 220, Training loss 10.711695194244385, Training Accuracy 81.21%\n",
      "2024-02-11 21:45:38.992406 Epoch 230, Training loss 10.491997241973877, Training Accuracy 81.49%\n",
      "2024-02-11 21:45:39.528008 Epoch 240, Training loss 10.821225732564926, Training Accuracy 81.35%\n",
      "2024-02-11 21:45:40.063489 Epoch 250, Training loss 10.659248977899551, Training Accuracy 80.79%\n",
      "2024-02-11 21:45:40.651360 Epoch 260, Training loss 11.666384816169739, Training Accuracy 80.93%\n",
      "2024-02-11 21:45:41.199802 Epoch 270, Training loss 10.7352876663208, Training Accuracy 79.94%\n",
      "2024-02-11 21:45:41.746225 Epoch 280, Training loss 11.081911787390709, Training Accuracy 80.65%\n",
      "2024-02-11 21:45:42.291028 Epoch 290, Training loss 10.692000582814217, Training Accuracy 80.50%\n",
      "2024-02-11 21:45:42.832709 Epoch 300, Training loss 10.440657645463943, Training Accuracy 82.05%\n",
      "2024-02-11 21:45:43.369877 Epoch 310, Training loss 11.031568437814713, Training Accuracy 80.93%\n",
      "2024-02-11 21:45:43.913586 Epoch 320, Training loss 10.978087991476059, Training Accuracy 82.89%\n",
      "2024-02-11 21:45:44.459294 Epoch 330, Training loss 11.05169728398323, Training Accuracy 80.79%\n",
      "2024-02-11 21:45:44.996035 Epoch 340, Training loss 10.912890821695328, Training Accuracy 82.05%\n",
      "2024-02-11 21:45:45.525374 Epoch 350, Training loss 10.527904212474823, Training Accuracy 80.93%\n",
      "2024-02-11 21:45:46.053630 Epoch 360, Training loss 11.480312258005142, Training Accuracy 81.21%\n",
      "2024-02-11 21:45:46.584039 Epoch 370, Training loss 11.452908754348755, Training Accuracy 80.93%\n",
      "2024-02-11 21:45:47.112633 Epoch 380, Training loss 10.814210772514343, Training Accuracy 80.93%\n",
      "2024-02-11 21:45:47.643684 Epoch 390, Training loss 11.179070800542831, Training Accuracy 82.05%\n",
      "2024-02-11 21:45:48.177748 Epoch 400, Training loss 10.336263328790665, Training Accuracy 80.93%\n",
      "Fold Accuracy: 79.21%\n",
      "Fold 4/5\n",
      "2024-02-11 21:45:48.235906 Epoch 1, Training loss 11.391113370656967, Training Accuracy 80.50%\n",
      "2024-02-11 21:45:48.718963 Epoch 10, Training loss 10.834271997213364, Training Accuracy 80.36%\n",
      "2024-02-11 21:45:49.245146 Epoch 20, Training loss 11.301979064941406, Training Accuracy 79.80%\n",
      "2024-02-11 21:45:49.771448 Epoch 30, Training loss 11.401351124048233, Training Accuracy 81.63%\n",
      "2024-02-11 21:45:50.297932 Epoch 40, Training loss 11.09528762102127, Training Accuracy 81.63%\n",
      "2024-02-11 21:45:50.824166 Epoch 50, Training loss 11.113961160182953, Training Accuracy 81.21%\n",
      "2024-02-11 21:45:51.353482 Epoch 60, Training loss 11.061366707086563, Training Accuracy 80.93%\n",
      "2024-02-11 21:45:51.884001 Epoch 70, Training loss 10.921184450387955, Training Accuracy 80.50%\n",
      "2024-02-11 21:45:52.414624 Epoch 80, Training loss 10.940477550029755, Training Accuracy 81.63%\n",
      "2024-02-11 21:45:52.951497 Epoch 90, Training loss 11.107920408248901, Training Accuracy 79.80%\n",
      "2024-02-11 21:45:53.487241 Epoch 100, Training loss 11.253192812204361, Training Accuracy 79.66%\n",
      "2024-02-11 21:45:54.022401 Epoch 110, Training loss 11.555367201566696, Training Accuracy 81.07%\n",
      "2024-02-11 21:45:54.556434 Epoch 120, Training loss 11.109132647514343, Training Accuracy 80.36%\n",
      "2024-02-11 21:45:55.091913 Epoch 130, Training loss 10.938270837068558, Training Accuracy 79.80%\n",
      "2024-02-11 21:45:55.626216 Epoch 140, Training loss 11.104501992464066, Training Accuracy 80.50%\n",
      "2024-02-11 21:45:56.161657 Epoch 150, Training loss 10.73918417096138, Training Accuracy 81.63%\n",
      "2024-02-11 21:45:56.697050 Epoch 160, Training loss 10.687693238258362, Training Accuracy 80.79%\n",
      "2024-02-11 21:45:57.230565 Epoch 170, Training loss 10.913264006376266, Training Accuracy 80.79%\n",
      "2024-02-11 21:45:57.768121 Epoch 180, Training loss 11.39288803935051, Training Accuracy 80.36%\n",
      "2024-02-11 21:45:58.307455 Epoch 190, Training loss 11.847129672765732, Training Accuracy 78.82%\n",
      "2024-02-11 21:45:58.846009 Epoch 200, Training loss 11.015970796346664, Training Accuracy 79.94%\n",
      "2024-02-11 21:45:59.382283 Epoch 210, Training loss 10.8820880651474, Training Accuracy 80.50%\n",
      "2024-02-11 21:45:59.916434 Epoch 220, Training loss 10.483990490436554, Training Accuracy 80.36%\n",
      "2024-02-11 21:46:00.451514 Epoch 230, Training loss 10.977432698011398, Training Accuracy 81.63%\n",
      "2024-02-11 21:46:00.986778 Epoch 240, Training loss 11.077393412590027, Training Accuracy 81.49%\n",
      "2024-02-11 21:46:01.521307 Epoch 250, Training loss 11.185138523578644, Training Accuracy 80.22%\n",
      "2024-02-11 21:46:02.057626 Epoch 260, Training loss 11.009421646595001, Training Accuracy 81.07%\n",
      "2024-02-11 21:46:02.591806 Epoch 270, Training loss 11.021629601716995, Training Accuracy 80.22%\n",
      "2024-02-11 21:46:03.124261 Epoch 280, Training loss 11.299366980791092, Training Accuracy 80.79%\n",
      "2024-02-11 21:46:03.658043 Epoch 290, Training loss 11.298186630010605, Training Accuracy 80.36%\n",
      "2024-02-11 21:46:04.191104 Epoch 300, Training loss 10.718727976083755, Training Accuracy 81.35%\n",
      "2024-02-11 21:46:04.723718 Epoch 310, Training loss 10.93639999628067, Training Accuracy 79.38%\n",
      "2024-02-11 21:46:05.255213 Epoch 320, Training loss 11.5324746966362, Training Accuracy 80.08%\n",
      "2024-02-11 21:46:05.781882 Epoch 330, Training loss 10.568361043930054, Training Accuracy 80.93%\n",
      "2024-02-11 21:46:06.309947 Epoch 340, Training loss 10.874021887779236, Training Accuracy 80.08%\n",
      "2024-02-11 21:46:06.819068 Epoch 350, Training loss 11.021235406398773, Training Accuracy 79.80%\n",
      "2024-02-11 21:46:07.328009 Epoch 360, Training loss 11.171257764101028, Training Accuracy 81.07%\n",
      "2024-02-11 21:46:07.836553 Epoch 370, Training loss 11.388274312019348, Training Accuracy 79.38%\n",
      "2024-02-11 21:46:08.347204 Epoch 380, Training loss 11.053863674402237, Training Accuracy 79.66%\n",
      "2024-02-11 21:46:08.863272 Epoch 390, Training loss 10.899366855621338, Training Accuracy 81.49%\n",
      "2024-02-11 21:46:09.375769 Epoch 400, Training loss 10.99097090959549, Training Accuracy 81.21%\n",
      "Fold Accuracy: 82.58%\n",
      "Fold 5/5\n",
      "2024-02-11 21:46:09.432175 Epoch 1, Training loss 11.315032631158829, Training Accuracy 80.50%\n",
      "2024-02-11 21:46:09.893982 Epoch 10, Training loss 11.632344990968704, Training Accuracy 78.82%\n",
      "2024-02-11 21:46:10.408552 Epoch 20, Training loss 11.187380075454712, Training Accuracy 80.50%\n",
      "2024-02-11 21:46:10.922850 Epoch 30, Training loss 10.929729759693146, Training Accuracy 81.21%\n",
      "2024-02-11 21:46:11.435876 Epoch 40, Training loss 10.738998293876648, Training Accuracy 82.89%\n",
      "2024-02-11 21:46:11.948847 Epoch 50, Training loss 10.744456797838211, Training Accuracy 81.77%\n",
      "2024-02-11 21:46:12.461605 Epoch 60, Training loss 10.821881473064423, Training Accuracy 81.07%\n",
      "2024-02-11 21:46:12.974468 Epoch 70, Training loss 10.859536617994308, Training Accuracy 81.63%\n",
      "2024-02-11 21:46:13.484388 Epoch 80, Training loss 11.051250845193863, Training Accuracy 79.38%\n",
      "2024-02-11 21:46:13.994191 Epoch 90, Training loss 10.962029308080673, Training Accuracy 80.22%\n",
      "2024-02-11 21:46:14.504394 Epoch 100, Training loss 10.871157258749008, Training Accuracy 80.36%\n",
      "2024-02-11 21:46:15.014121 Epoch 110, Training loss 11.732005536556244, Training Accuracy 80.79%\n",
      "2024-02-11 21:46:15.523879 Epoch 120, Training loss 10.731010794639587, Training Accuracy 81.07%\n",
      "2024-02-11 21:46:16.034070 Epoch 130, Training loss 11.26928186416626, Training Accuracy 80.08%\n",
      "2024-02-11 21:46:16.562237 Epoch 140, Training loss 10.972313195466995, Training Accuracy 81.63%\n",
      "2024-02-11 21:46:17.092553 Epoch 150, Training loss 11.52909305691719, Training Accuracy 79.38%\n",
      "2024-02-11 21:46:17.600446 Epoch 160, Training loss 10.73310574889183, Training Accuracy 80.36%\n",
      "2024-02-11 21:46:18.107631 Epoch 170, Training loss 10.796335458755493, Training Accuracy 83.03%\n",
      "2024-02-11 21:46:18.614663 Epoch 180, Training loss 11.201506912708282, Training Accuracy 81.91%\n",
      "2024-02-11 21:46:19.121716 Epoch 190, Training loss 11.031263649463654, Training Accuracy 79.94%\n",
      "2024-02-11 21:46:19.628513 Epoch 200, Training loss 11.172413140535355, Training Accuracy 81.21%\n",
      "2024-02-11 21:46:20.137615 Epoch 210, Training loss 10.641339629888535, Training Accuracy 80.79%\n",
      "2024-02-11 21:46:20.667444 Epoch 220, Training loss 10.86809641122818, Training Accuracy 80.79%\n",
      "2024-02-11 21:46:21.196937 Epoch 230, Training loss 11.149921178817749, Training Accuracy 81.91%\n",
      "2024-02-11 21:46:21.723265 Epoch 240, Training loss 10.695311903953552, Training Accuracy 81.07%\n",
      "2024-02-11 21:46:22.248742 Epoch 250, Training loss 10.593450248241425, Training Accuracy 82.89%\n",
      "2024-02-11 21:46:22.775844 Epoch 260, Training loss 10.948703080415726, Training Accuracy 82.05%\n",
      "2024-02-11 21:46:23.308258 Epoch 270, Training loss 11.119715362787247, Training Accuracy 81.07%\n",
      "2024-02-11 21:46:23.839276 Epoch 280, Training loss 11.194262593984604, Training Accuracy 79.24%\n",
      "2024-02-11 21:46:24.370944 Epoch 290, Training loss 11.059058874845505, Training Accuracy 80.22%\n",
      "2024-02-11 21:46:24.906139 Epoch 300, Training loss 11.615738660097122, Training Accuracy 78.96%\n",
      "2024-02-11 21:46:25.443025 Epoch 310, Training loss 11.242249757051468, Training Accuracy 80.79%\n",
      "2024-02-11 21:46:25.980762 Epoch 320, Training loss 10.84603837132454, Training Accuracy 81.35%\n",
      "2024-02-11 21:46:26.516716 Epoch 330, Training loss 11.150043219327927, Training Accuracy 81.77%\n",
      "2024-02-11 21:46:27.054722 Epoch 340, Training loss 10.908894658088684, Training Accuracy 81.21%\n",
      "2024-02-11 21:46:27.593287 Epoch 350, Training loss 11.147121608257294, Training Accuracy 80.22%\n",
      "2024-02-11 21:46:28.131714 Epoch 360, Training loss 10.622069031000137, Training Accuracy 81.35%\n",
      "2024-02-11 21:46:28.669126 Epoch 370, Training loss 10.799905329942703, Training Accuracy 81.07%\n",
      "2024-02-11 21:46:29.200687 Epoch 380, Training loss 10.985641241073608, Training Accuracy 80.93%\n",
      "2024-02-11 21:46:29.726711 Epoch 390, Training loss 10.816119641065598, Training Accuracy 80.93%\n",
      "2024-02-11 21:46:30.251866 Epoch 400, Training loss 11.1140978038311, Training Accuracy 80.22%\n",
      "Fold Accuracy: 81.46%\n"
     ]
    }
   ],
   "source": [
    "train_dense, test_dense = cross_validate(model = model_dense,\n",
    "               n_epochs = n_epochs,\n",
    "               optimizer = optimizer_dense,\n",
    "               loss_fn = loss_fn,\n",
    "               X_train = X_train,\n",
    "               y_train = y_train,\n",
    "               n_splits=5, \n",
    "               batch_size=32, \n",
    "               shuffle=True, \n",
    "               device=device,\n",
    "               epoch_print_gap=50)"
   ]
  },
  {
   "cell_type": "code",
   "execution_count": null,
   "metadata": {},
   "outputs": [
    {
     "data": {
      "text/plain": [
       "<matplotlib.legend.Legend at 0x7fc53de236a0>"
      ]
     },
     "execution_count": 192,
     "metadata": {},
     "output_type": "execute_result"
    },
    {
     "data": {
      "image/png": "[encoded data removed]",
      "text/plain": [
       "<Figure size 1600x900 with 1 Axes>"
      ]
     },
     "metadata": {},
     "output_type": "display_data"
    }
   ],
   "source": [
    "plt.figure(figsize=(16,9))\n",
    "plt.plot(train_simple, label=\"Simple MLP Train Accuracy\")\n",
    "plt.plot(test_simple, label=\"Simple MLP Test Accuracy\")\n",
    "plt.plot(train_dense, label=\"Dense MLP Train Accuracy\")\n",
    "plt.plot(test_dense, label=\"Dense MLP Test Accuracy\")\n",
    "plt.ylim(75,100)\n",
    "plt.legend()"
   ]
  },
  {
   "cell_type": "code",
   "execution_count": null,
   "metadata": {},
   "outputs": [
    {
     "name": "stdout",
     "output_type": "stream",
     "text": [
      "Your submission was successfully saved!\n"
     ]
    },
    {
     "name": "stderr",
     "output_type": "stream",
     "text": [
      "/tmp/ipykernel_48185/2682251744.py:12: SettingWithCopyWarning: \n",
      "A value is trying to be set on a copy of a slice from a DataFrame.\n",
      "Try using .loc[row_indexer,col_indexer] = value instead\n",
      "\n",
      "See the caveats in the documentation: https://pandas.pydata.org/pandas-docs/stable/user_guide/indexing.html#returning-a-view-versus-a-copy\n",
      "  output.loc[:, 'Survived'] = predictions.cpu().numpy().astype(int)\n"
     ]
    }
   ],
   "source": [
    "model_dense = model_dense.to(device)\n",
    "X_test = X_test.to(device)\n",
    "\n",
    "model_dense.eval()\n",
    "with torch.no_grad():\n",
    "    y_pred = model_dense(X_test)\n",
    "    predictions = (y_pred > 0.5).float()\n",
    "\n",
    "\n",
    "test_ = pd.read_csv('test.csv')\n",
    "output = test_[['PassengerId']]\n",
    "output.loc[:, 'Survived'] = predictions.cpu().numpy().astype(int)\n",
    "\n",
    "output.to_csv('titanic_submission.csv', index=False)\n",
    "print(\"Your submission was successfully saved!\")"
   ]
  }
 ],
 "metadata": {
  "_change_revision": 2,
  "_is_fork": false,
  "kernelspec": {
   "display_name": "Python 3",
   "language": "python",
   "name": "python3"
  },
  "language_info": {
   "codemirror_mode": {
    "name": "ipython",
    "version": 3
   },
   "file_extension": ".py",
   "mimetype": "text/x-python",
   "name": "python",
   "nbconvert_exporter": "python",
   "pygments_lexer": "ipython3",
   "version": "3.10.12"
  }
 },
 "nbformat": 4,
 "nbformat_minor": 0
}
